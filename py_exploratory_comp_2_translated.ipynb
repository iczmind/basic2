{
 "cells": [
  {
   "cell_type": "markdown",
   "metadata": {},
   "source": [
    "\n",
    "# Metode Komputasi Eksplorasi menggunakan Python\n",
    "\n"
    "*Oleh Mark Bakker, TU Delft*\n"
    "\n"
    "*Versi Indonesia disesuaikan oleh Tim ITB dan Tim ITS*\n"
    ]
  },
  {
   "cell_type": "markdown",
   "metadata": {},
   "source": [
    "## Notebook 2: Array dan dasar-dasar penggunaan pernyataan `if`\n",
    "### Array 1 Dimensi\n",
    "\n",
    "Dalam Notebook ini kita akan mencoba untuk melakukan operasi matematis yang melibatkan array dengan menggunakan fungsi-fungsi yang tersedia dalam paket/modul `numpy`. Ikhtisar lengkap tentang kemampuan yang dimiliki oleh `numpy` dapat dilihat di [tautan ini](\"http://wiki.scipy.org/Tentative_NumPy_Tutorial\").  Selain itu, dalam Notebook ini kita akan kembali melakukan *plotting*. Sebagai pembuka, kita akan mengimpor kedua paket tersebut ke dalam notebook ini; `matplotlib` sebagai plt dan `numpy` sebagai np. Selanjutnya, kita akan mengatur agar Python meletakkan semua grafik yang telah kita buat dalam satu *window*.\n",
    "\n",
    "Perhatikan baris-baris perintah yang terdapat dalam sel kode di bawah ini. Kita akan menggunakan perintah-perintah tersebut untuk memulai Notebook-notebook yang akan datang di mana paket `numpy` dan `matplotlib` akan selalu digunakan."
   ]
  },
  {
   "cell_type": "code",
   "execution_count": 2,
   "metadata": {
    "collapsed": false
   },
   "outputs": [],
   "source": [
    "import matplotlib.pyplot as plt\n",
    "import numpy as np\n",
    "%matplotlib inline"
   ]
  },
  {
   "cell_type": "markdown",
   "metadata": {},
   "source": [
    "Terdapat banyak metode untuk menciptakan sebuah array. Sebagai contoh yang paling dasar, kita dapat menulis satu per satu elemen yang akan membentuk sebuah array."
   ]
  },
  {
   "cell_type": "code",
   "execution_count": "",
   "metadata": {
    "collapsed": false
   },
   "outputs": [],
   "source": [
    "np.array([1,7,2,12])"
   ]
  },
  {
   "cell_type": "markdown",
   "metadata": {},
   "source": [
    "Perhatikan bahwa fungsi `array` akan meletakkan nilai-nilai yang terdapat di dalam tanda kurung siku ke dalam satu baris yang sama. Fungsi lain yang dapat digunakan untuk menciptakan sebuah array adalah `ones(shape)`, yang mana akan menampilkan sebuah array dengan dimensi yang ditentukan oleh argumen `(shape)` dan angka 1 sebagai elemen-elemen yang membentuk array tersebut. Selain fungsi `ones` terdapat juga `zeros(shape)` yang akan memberikan kita sebuah array dengan angka 0 sebagai elemen-elemen yang membentuk array tersebut. Alternatif dari perintah `zeros` adalah dengan menggunakan perintah `0 * ones(shape)`."
   ]
  },
  {
   "cell_type": "markdown",
   "metadata": {},
   "source": [
    "Apabila kita ingin menghasilkan array dengan nilai awal dan akhir serta jarak antar nilai yang spesifik maka kita dapat menggunakan fungsi `arange(start,end,step)`, di mana array akan bermula pada nilai yang dinyatakan dalam argumen `start` dan akan berhenti sebelum nilai yang dinyatakan dalam argumen `end`, argumen `step` menentukan jarak antar nilai yang akan dimiliki oleh array tersebut. Apabila argumen `step` tidak digunakan, python akan secara otomatis menggunakan nilai 1 sebagai jarak antar nilai. Fungsi ini juga merupakan alternatif dari fungsi `linspace` yang telah kita gunakan dalam Notebook yang lalu. Apabila kita hanya memasukkan satu nilai ke dalam argumen fungsi `arange` maka python akan menghasilkan sebuah array yang dimulai dari nilai 0, berjarak 1 antar nilai, dan berakhir sebelum angka yang dimasukkan sebagai argumen dari fungsi `arange`. "
   ]
  },
  {
   "cell_type": "code",
   "execution_count": "",
   "metadata": {
    "collapsed": false
   },
   "outputs": [],
   "source": [
    "print(np.arange(1, 7)) # Secara otomatis menggunakan 1 sebagai argumen untuk step dan angka 6 sebagai nilai terakhir dalam array\n",
    "print(np.arange(5)) # Secara otomatis array akan dimulai dengan angka 0, diakhiri dengan angka 4, dan berjarak 1 antar nilai"
   ]
  },
  {
   "cell_type": "markdown",
   "metadata": {},
   "source": [
    "Perhatikan bahwa python akan mengenali teks yang diawali dengan tanda `#` sebagai komentar.\n",
    "Array selalu didefinisikan oleh dimensinya, sejauh ini kita baru mengenal dan mencoba untuk menciptakan array 1 dimensi. Maka dari itu dimensi dari array-array di atas didefinisikan sebagai satu.\n",
    "Untuk array-array 1 dimensi, anda dapat menghitung panjang dari array tersebut tanpa harus mengimpor modul `numpy` sebelumnya. Perintah `len(array)` akan mengembalikan panjang dari array yang diinput sebagai argumen untuk fungsi `len` tersebut."
   ]
  },
  {
   "cell_type": "code",
   "execution_count": "",
   "metadata": {
    "collapsed": false
   },
   "outputs": [],
   "source": [
    "x = np.array([1, 7, 2, 12])\n",
    "print('dimensi dari array x:', np.ndim(x))\n",
    "print('panjang dari array x:',len(x))"
   ]
  },
  {
   "cell_type": "markdown",
   "metadata": {},
   "source": [
    "Kita dapat mengakses elemen-elemen dari sebuah array secara individual dengan memanggil indeks yang mereka miliki. Perhatikan bahwa penomoran indeks dimulai dari 0, bukan 1. Hal ini berarti elemen pertama dalam sebuah array akan memiliki indeks 0. Tanda kurung siku digunakan untuk menyatakan indeks dari elemen sebuah array seperti yang dapat dilihat pada contoh di bawah ini."
   ]
  },
  {
   "cell_type": "code",
   "execution_count": "",
   "metadata": {
    "collapsed": false
   },
   "outputs": [],
   "source": [
    "x = np.arange(20,30)\n",
    "print(x)\n",
    "print(x[0])\n",
    "print(x[5])"
   ]
  },
  {
   "cell_type": "markdown",
   "metadata": {},
   "source": [
    "Untuk menyatakan beberapa elemen dengan indeks yang berurutan secara sekaligus, selain menyebutkan indeks secara satu per satu, cara yang lebih efisien adalah dengan menggunakan tanda titik dua: `x[start:end_before]` atau `x[start:end_before:step]`. Apabila argumen `start` atau `end_before` tidak dimasukkan maka nilai 0 akan digunakan secara otomatis oleh python, selain itu apabila argumen `step` juga tidak dinyatakan maka nilai 1 akan digunakan. Anda juga dapat memulai penomoran indeks dari elemen terakhir. You can also start at the end and count back. Pada umumnya indeks dari elemen terakhir di dalam sebuah array tidak diketahui. Kita dapat meminta python untuk menghitung panjang dari suatu array tertentu dan mengembalikan elemen terakhir dari array tersebut dengan mengetik perintah `x[len(x)-1]`. Namun, cara ini akan sangat merepotkan apabila kita harus mengetik `len(array)` setiap saat kita ingin mencari tahu tentang indeks terakhir dari sebuah array. Alternatif yang lebih efisien adalah dengan mengetik `x[-1]`, di mana indeks -1 menyatakan indeks terakhir dalam sebuah array. Pemahaman mengenai beragam variasi untuk menampilkan indeks terakhir ini memang membutuhkan banyak latihan. Pastikan bahwa anda memahami contoh soal di bawah ini dengan baik:"
   ]
  },
  {
   "cell_type": "code",
   "execution_count": "",
   "metadata": {
    "collapsed": false
   },
   "outputs": [],
   "source": [
    "x = np.arange(20, 30)\n",
    "print(x)\n",
    "print(x[0:5])\n",
    "print(x[:5]) # akan mengembalikan nilai yang sama seperti perintah di atas\n",
    "print(x[3:7])\n",
    "print(x[2:9:2]) # menampilkan elemen dengan indeks 2 sampai sebelum indeks 9 dan nilai akan berjarak 2 satu sama lain\n",
    "print(x[-1:4:-2]) # menampilkan elemen secara terbalik, elemen pertama adalah elemen terakhir dan berhenti sampai sebelum indeks 4\n",
    "                 # dari belakang, nilai-nilai yang ditampilkan akan berjarak 2 satu sama lain"
   ]
  },
  {
   "cell_type": "markdown",
   "metadata": {},
   "source": [
    "Anda dapat memasukkan satu nilai yang spesifik ke dalam beberapa elemen yang berurutan di dalam sebuah array dengan cara memanggil indeks dari elemen-elemen yang dimaksud. Selain itu, anda juga dapat memasukkan satu array ke dalam sebuah array lainnya selama array yang pertama memiliki panjang yang sama dengan jumlah elemen yang akan digantikan dalam array yang ke dua. Pada contoh ke dua di bawah ini ini, lima nilai pertama dalam array `x` (diidentifikasikan dengan cara `x[0:5]`) akan digantikan dengan array yang berisi elemen-elemen berikut;  `[40,42,44,46,48]`."
   ]
  },
  {
   "cell_type": "code",
   "execution_count": 3,
   "metadata": {
    "collapsed": false
   },
   "outputs": [
    {
     "name": "stdout",
     "output_type": "stream",
     "text": [
      "[ 20.  20.  20.  20.  20.  20.  20.  20.  20.  20.]\n",
      "[ 40.  40.  40.  40.  40.  20.  20.  20.  20.  20.]\n",
      "[ 40.  42.  44.  46.  48.  20.  20.  20.  20.  20.]\n"
     ]
    }
   ],
   "source": [
    "x = 20 * np.ones(10)\n",
    "print(x)\n",
    "x[0:5] = 40\n",
    "print(x)\n",
    "x[0:5] = np.arange(40,50,2)\n",
    "print(x)"
   ]
  },
  {
   "cell_type": "markdown",
   "metadata": {},
   "source": [
    "Pada contoh di bawah ini, lima nilai terakhir dalam array `x` ingin digantikan dengan elemen-elemen berikut; [50,52,54,56,58]. Namun terdapat error dalam kode yang ditulis dalam contoh tersebut. Hilangkan tanda `#` untuk mengaktifkan kode dan jalankan kode tersebut untuk melihat pesan error yang dimaksud. Perbaiki kode tersebut untuk mendapatkan hasil yang diinginkan"
   ]
  },
  {
   "cell_type": "code",
   "execution_count": "",
   "metadata": {
    "collapsed": false
   },
   "outputs": [],
   "source": [
    "#x[5:] = np.arange(50,62,1)\n",
    "#print x"
   ]
  },
  {
   "cell_type": "markdown",
   "metadata": {},
   "source": [
    "### Latihan 1, <a name=\"back1\"></a> Array dan indeks\n",
    "Buatlah sebuah array dengan 0 sebagai elemen-elemen pembentuk dan panjang = 20. Ubah lima nilai pertama menjadi 10. Kemudian ubah sepuluh nilai selanjutnya menjadi barisan angka yang dimulai dari angka 12 hingga 30 di mana jarak antar nilai adalah 2, lakukan hal ini dengan satu perintah yang sama. Selanjutnya atur agar lima nilai terakhir adalah angka 30. Terakhir, plot nilai dari array tersebut pada sumbu-y dan indeks dari elemen-elemen array tersebut pada sumbu-x. Gambar garis vertikal putus-putus pada x=4 dan x=14 (i.e. area di antara x=4 dan x=14 adalah area di mana kurva meningkat dari y=10 hingga y=30). Set nilai minimum pada sumbu-y menjadi 8 dan nilai maksimum menjadi 32 menggunakan perintah `ylim`."
   ]
  },
  {
   "cell_type": "code",
   "execution_count": 4,
   "metadata": {
    "collapsed": false
   },
   "outputs": [
    {
     "name": "stdout",
     "output_type": "stream",
     "text": [
      "[ 0.  0.  0.  0.  0.  0.  0.  0.  0.  0.  0.  0.  0.  0.  0.  0.  0.  0.\n",
      "  0.  0.]\n",
      "[ 10.  10.  10.  10.  10.   0.   0.   0.   0.   0.   0.   0.   0.   0.   0.\n",
      "   0.   0.   0.   0.   0.]\n",
      "[ 10.  10.  10.  10.  10.  12.  14.  16.  18.  20.  22.  24.  26.  28.  30.\n",
      "   0.   0.   0.   0.   0.]\n",
      "[ 10.  10.  10.  10.  10.  12.  14.  16.  18.  20.  22.  24.  26.  28.  30.\n",
      "  30.  30.  30.  30.  30.]\n"
     ]
    }
   ],
   "source": [
    "x=0*np.ones(20)\n",
    "print(x)\n",
    "x[0:5]=10\n",
    "print(x)\n",
    "x[5:15]=np.arange(12,31,2)\n",
    "print(x)\n",
    "x[15:20]=30*np.ones(5)\n",
    "print(x)"
   ]
  },
  {
   "cell_type": "markdown",
   "metadata": {},
   "source": [
    "<a href=\"#ex1answer\">Kunci Jawaban untuk Latihan 1</a>"
   ]
  },
  {
   "cell_type": "markdown",
   "metadata": {},
   "source": [
    "### Array, *List*, dan *Tuples*\n",
    "Array 1 dimensi pada dasarnya adalah barisan angka-angka yang dapat kita gunakan untuk berbagai operasi matematis. Selain array, python memiliki beberapa jenis pengaturan penyimpanan data lainnya. Contoh pertama adalah `list`, atau daftar, di mana nilai-nilai yang ingin disimpan harus diketik di antara tanda kurung siku. Contoh yang ke dua adalah `tuple` (sayangnya tidak memiliki padanan kata dalam Bahasa Indonesia), yang membutuhkan tanda kurung biasa sebagai pengganti tanda kurung siku. Perbedaan di antara dua entitas ini adalah anda masih dapat mengubah nilai sebuah *list* setelah anda mendefinisikan *list* tersebut dan nilai dari sebuah *tuple* tidak dapat diubah setelah pertama kali dimasukkan."
   ]
  },
  {
   "cell_type": "markdown",
   "metadata": {},
   "source": [
    "Signifikansi kedua entitas tersebut dalam Notebook ini tidaklah besar, anda hanya perlu mengingat bahwa kedua hal tersebut tersedia dalam lingkungan python dan anda **tidak dapat** menggunakan operasi matematis terhadap `list` maupun `tuple`. Apabila anda mengetik perintah `2 * alist` di mana `alist` adalah sebuah *list* maka python akan mengembalikan sebuah *list* baru yang berupa repetisi dari `alist`, bukannya *list* dengan elemen bernilai sama dengan  2 x elemen-elemen `alist`. Hal yang sama juga berlaku dengan `tuple`. Tentunya ada banyak kesempatan di mana kegunaan ini sangat fungsional, namun bukan pada saat anda ingin melakukan operasi matematis terhadap kumpulan data-data yang anda miliki. Pada contoh di bawah ini, nilai pertama dalam sebuah *list* akan diubah. Cobalah untuk mengganti satu nilai dari elemen-elemen yang dimiliki oleh `btuple` di bawah ini dan perhatikan pesan error yang akan anda dapatkan."
   ]
  },
  {
   "cell_type": "code",
   "execution_count": 5,
   "metadata": {
    "collapsed": false
   },
   "outputs": [
    {
     "name": "stdout",
     "output_type": "stream",
     "text": [
      "alist [1, 2, 3]\n",
      "btuple (10, 20, 30)\n",
      "alist baru [7, 2, 3]\n"
     ]
    }
   ],
   "source": [
    "alist = [1, 2, 3]\n",
    "print('alist', alist)\n",
    "btuple = (10, 20, 30)\n",
    "print('btuple', btuple)\n",
    "alist[0] = 7  # karena alist adalah sebuah list maka anda masih dapat mengubah nilai dari elemen-elemen list tersebut\n",
    "print('alist baru', alist)\n",
    "#btuple[0] = 100  # Akan mengembalikan pesan error\n",
    "#print 2*alist"
   ]
  },
  {
   "cell_type": "markdown",
   "metadata": {},
   "source": [
    "*List* dan *tuple* adalah tipe penyimpanan data yang serbaguna dalam Python. Seringkali kita telah menggunakan *list* tanpa sadar saat kita menggunakan perintah `array` untuk menciptakan sebuah array baru seperti pada contoh ini; `array ([1,7,2,12])`. Apa yang terjadi adalah kita memasukan sebuah *list*, `[1,7,2,12]`,  sebagai argumen perintah `array` untuk menciptakan sebuah array yang baru. Perintah tersebut akan mengembalikan sebuah array 1 dimensi dengan elemen-elemen yang terbentuk dari *list* tersebut. Elemen-elemen yang membentuk sebuah *list* atau *tuple* tidak harus selalu dalam bentuk angka. Pada contoh di bawah ini, `alist` memiliki **lima elemen dengan tipe data yang berbeda-beda** : 1 (integer), 20 (float), `python` (kata), sebuah array [1,2,3], dan fungsi `len`. Ketika anda memanggil `alist[4]` maka sebenarnya anda akan menjalankan fungsi `len` untuk menghitung panjang dari sebuah array yang spesifik. Hal ini memang agak membingungkan, namun dalam berbagai kesempatan hal ini menjadi sangat menguntungkan. Pahami contoh di bawah ini untuk melihat salah satu kegunaan dari kasus di atas."
   ]
  },
  {
   "cell_type": "code",
   "execution_count": 6,
   "metadata": {
    "collapsed": false
   },
   "outputs": [
    {
     "name": "stdout",
     "output_type": "stream",
     "text": [
      "[1, 20.0, 'python', array([1, 2, 3]), <built-in function len>]\n",
      "1\n",
      "python\n",
      "3\n"
     ]
    }
   ],
   "source": [
    "alist = [1, 20.0, 'python', np.array([1,2,3]), len]\n",
    "print(alist)\n",
    "print(alist[0])\n",
    "print(alist[2])\n",
    "print(alist[4]( alist[3] ))  # same as len( np.array([1,2,3]) )"
   ]
  },
  {
   "cell_type": "markdown",
   "metadata": {},
   "source": [
    "### Array 2 dimensi\n",
    "Anda dapat menciptakan array dengan berbagai dimensi selama memori dari komputer anda dapat memfasilitasinya. Dalam berbagai kesempatan, array 2 dimensi akan sangat sering digunakan. Array 2 dimensi dapat diciptakan dengan berbagai macam cara, termasuk cara-cara yang telah kita pelajari untuk menciptakan array 1 dimensi di atas dengan menambahkan argumen mengenai jumlah baris dan kolom yang diinginkan. Perintah untuk menciptakan array 2 dimensi hanya membutuhkan 1 argumen untuk menyatakan spesifikasi berupa jumlah baris dan kolom. Maka dari itu keterangan mengenai dimensi dari array 2 dimensi (atau lebih) dapat dimasukkan dalam bentuk sebuah *tuple* (diletakkan di antara tanda kurung)."
   ]
  },
  {
   "cell_type": "code",
   "execution_count": 7,
   "metadata": {
    "collapsed": false
   },
   "outputs": [
    {
     "name": "stdout",
     "output_type": "stream",
     "text": [
      "[[ 1.  1.  1.  1.]\n",
      " [ 1.  1.  1.  1.]\n",
      " [ 1.  1.  1.  1.]]\n"
     ]
    }
   ],
   "source": [
    "x = np.ones((3, 4)) # sebuah array 2 dimensi yang terdiri dari 3 buah baris dan 4 buah kolom\n",
    "print(x)"
   ]
  },
  {
   "cell_type": "markdown",
   "metadata": {},
   "source": [
    "Array multi dimensi juga dapat didefinisikan dengan cara mengetik seluruh elemen secara satu per satu menggunakan fungsi `array`. Argumen input yang dibutuhkan untuk metode ini berupa sebuah *list* yang berisi beberapa buah *list* yang merepresentasikan masing-masing baris dalam sebuah array.\n",
    "Pada contoh yang tersedia di bawah ini dapat dilihat bahwa terdapat spasi untuk memisahkan satu list (untuk menggambarkan masing-masing baris) dengan yang lainnya. Hal ini hanya dilakukan untuk memudahkan anda mengidentifikasi baris yang berbeda, python tidak akan mengenali spasi sebagai tanda untuk mengidentifikasi baris yang berbeda dalam sebuah array multi dimensi.\n",
    "\n",
    "Anda dapat mengubah dimensi sebuah array yang telah diciptakan dengan menggunakan fungsi `reshape`, selama jumlah elemen yang terlibat tidak berubah."
   ]
  },
  {
   "cell_type": "code",
   "execution_count": 8,
   "metadata": {
    "collapsed": false
   },
   "outputs": [
    {
     "name": "stdout",
     "output_type": "stream",
     "text": [
      "[[4 2 3 2]\n",
      " [2 4 3 1]\n",
      " [0 4 1 3]]\n",
      "[[4 2]\n",
      " [3 2]\n",
      " [2 4]\n",
      " [3 1]\n",
      " [0 4]\n",
      " [1 3]]\n",
      "[[4 2 3 2 2 4 3 1 0 4 1 3]]\n"
     ]
    }
   ],
   "source": [
    "x = np.array([[4,2,3,2],\n",
    "              [2,4,3,1],\n",
    "              [0,4,1,3]])\n",
    "print(x)\n",
    "print(np.reshape(x,(6,2)))   # 6 baris, 2 kolom\n",
    "print(np.reshape(x, (1, 12)))  # 1 baris, 12 kolom"
   ]
  },
  {
   "cell_type": "markdown",
   "metadata": {},
   "source": [
    "Indeks dari sebuah array 2 dimensi selalu dinyatakan dengan dua nilai; nilai yang pertama memberikan keterangan tentang jumlah baris dan nilai yang ke dua untuk menyatakan jumlah kolom."
   ]
  },
  {
   "cell_type": "code",
   "execution_count": 42,
   "metadata": {
    "collapsed": false
   },
   "outputs": [
    {
     "name": "stdout",
     "output_type": "stream",
     "text": [
      "[[ 100.    0.    0.    0.    0.    0.    0.    0.]\n",
      " [   0.    0.    0.    0.  200.  200.  200.  200.]\n",
      " [   0.    0.    0.    0.    0.  400.  400.  400.]]\n"
     ]
    }
   ],
   "source": [
    "x = np.zeros((3,8))\n",
    "x[0,0] = 100\n",
    "x[1,4:] = 200  # mengakses elemen dalam array di baris dengan indeks 1 dan kolom dengan indeks 4 sampai terakhir\n",
    "x[2,-1:4:-1] = 400  # mengakses elemen dalam array pada baris dengan indeks 2 dan kolomd and stop before reaching index 4\n",
    "print(x)"
   ]
  },
  {
   "cell_type": "markdown",
   "metadata": {},
   "source": [
    "### Array tidak sama dengan matriks\n",
    "Meskipun array 2 dimensi didefinisikan melalui jumlah baris dan kolom yang dimiliki, namun array 2 dimensi tidaklah sama dengan matriks. Hal ini juga berlaku dengan array 1 dimensi di mana array dengan tipe ini tidaklah sama dengan vektor. Pengertian bahwa **array bukanlah vektor maupun matriks** sangat krusial untuk dipahami. Operasi matematis seperti perkalian dan pembagian yang melibatkan dua atau lebih array dilakukan per elemen."
   ]
  },
  {
   "cell_type": "code",
   "execution_count": 10,
   "metadata": {
    "collapsed": false
   },
   "outputs": [
    {
     "name": "stdout",
     "output_type": "stream",
     "text": [
      "array a: [ 4  8 12 16]\n",
      "array b: [2 2 4 4]\n",
      "a * b  : [ 8 16 48 64]\n",
      "a / b  : [ 2.  4.  3.  4.]\n"
     ]
    }
   ],
   "source": [
    "a = np.arange(4, 20, 4)\n",
    "b = np.array([2, 2, 4, 4])\n",
    "print('array a:', a)\n",
    "print('array b:', b)\n",
    "print('a * b  :', a * b)  # perkalian dilakukan pada masing-masing elemen dengan indeks yang sama pada kedua array\n",
    "print('a / b  :', a / b)  # pembagian dilakukan pada masing-masing elemen dengan indeks yang sama pada kedua array"
   ]
  },
  {
   "cell_type": "markdown",
   "metadata": {},
   "source": [
    "Perhatikan bahwa operasi matematis pada nilai dengan tipe integer akan menghasilkan nilai yang juga merupakan integer (terutama bagi pengguna Python 2.X). Apabila anda menginginkan tipe data yang lain (i.e. float) maka usahakan agar setidaknya salah satu dari input array memiliki tipe float. Hal ini dapat dicapai dengan cara memasukkan setidaknya satu nilai dengan tipe float sebagai elemen di dalam array yang dimaksud. Python akan secara otomatis mengevaluasi tipe data dari suatu array ketika input dilakukan (`dtype` secara singkat). Anda dapat meminta python untuk mengembalikan keterangan mengenai tipe data dari sebuah array dengan cara mengetik fungsi `dtype`. Anda juga dapat menggunakan `dtype` sebagai argumen saat menciptakan sebuah array."
   ]
  },
  {
   "cell_type": "code",
   "execution_count": 11,
   "metadata": {
    "collapsed": false
   },
   "outputs": [
    {
     "name": "stdout",
     "output_type": "stream",
     "text": [
      "array a, dtype:  [0 1 2 3] int32\n",
      "array b, dtype:  [2 2 4 4] int32\n",
      "a / b  : [ 0.    0.5   0.5   0.75]\n",
      "array a, dtype:  [ 0.  1.  2.  3.] float64\n",
      "a / b  : [ 0.    0.5   0.5   0.75]\n"
     ]
    }
   ],
   "source": [
    "a = np.arange(4)\n",
    "b = np.array([2, 2, 4, 4])\n",
    "print('array a, dtype: ', a, a.dtype)\n",
    "print('array b, dtype: ', b, b.dtype)\n",
    "print('a / b  :', a / b)  # pembagian antara dua array dengan tipe integer\n",
    "a = np.arange(4.)  # memodifikasi tipe data array a menjadi float, perintah ini setara dengan  mengetik np.arange(4,dtype='float')\n",
    "print('array a, dtype: ', a, a.dtype)\n",
    "print('a / b  :', a / b)  # pembagian antara dua array yang akan menghasilkan array baru dengan tipe float"
   ]
  },
  {
   "cell_type": "markdown",
   "metadata": {},
   "source": [
    "### Latihan 2, <a name=\"back2\"></a> Indeks pada array 2 dimensi \n",
    "Untuk array `x` yang ditunjukkan di bawah ini, tulislah kode yang tepat untuk menampilkan:\n",
    "\n",
    "* baris pertama dari array `x`\n",
    "* kolom pertama dari array `x`\n",
    "* baris ke tiga dari array `x`\n",
    "* dua kolom terakhir dari array `x`\n",
    "* empat nilai yang terdapat pada pojok kanan atas dari array `x`\n",
    "* empat nilai yang terdapat di tengah-tengah array `x`\n",
    "\n",
    "`x = np.array([[4, 2, 3, 2],\n",
    "              [2, 4, 3, 1],\n",
    "              [2, 4, 1, 3],\n",
    "              [4, 1, 2, 3]])`"
   ]
  },
  {
   "cell_type": "code",
   "execution_count": 29,
   "metadata": {
    "collapsed": false
   },
   "outputs": [
    {
     "name": "stdout",
     "output_type": "stream",
     "text": [
      "[4 2 3 2]\n",
      "[4 2 2 4]\n",
      "[2 4 1 3]\n",
      "[[3 2]\n",
      " [3 1]\n",
      " [1 3]\n",
      " [2 3]]\n",
      "[[3 2]\n",
      " [3 1]]\n",
      "[[4 3]\n",
      " [4 1]]\n"
     ]
    }
   ],
   "source": [
    "x = np.array([[4, 2, 3, 2],\n",
    "              [2, 4, 3, 1],\n",
    "              [2, 4, 1, 3],\n",
    "              [4, 1, 2, 3]])\n",
    "print(x[0,0:4])\n",
    "print(x[0:4,0])\n",
    "print(x[2,0:4])\n",
    "print(x[0:4,2:4])\n",
    "print(x[0:2,2:4])\n",
    "print(x[1:3,1:3])\n",
    "\n",
    "\n"
   ]
  },
  {
   "cell_type": "markdown",
   "metadata": {},
   "source": [
    "<a href=\"#ex2answer\">Kunci Jawaban untuk Latihan 2</a>"
   ]
  },
  {
   "cell_type": "markdown",
   "metadata": {},
   "source": [
    "### Visualisasi dari array 2 dimensi\n",
    "Array 2 dimensi dapat divisualisasikan sebagai sebuah gambar dengan menggunakan fungsi `plt.imshow`. Array yang ingin divisualisasikan dapat merepresentasikan banyak hal, sebagai contoh adalah array untuk menyimpan nilai elevasi permukaan. Menggunakan `imshow`, warna merah dapat diasosiasikan dengan nilai elevasi yang tinggi, warna biru dengan elevasi yang rendah, dan warna kuning serta hijau untuk nilai-nilai di antara kedua ekstrim tersebut. Dimensi dari array yang terdapat pada contoh soal di bawah ini tidaklah besar (hanya 4 x 4), namun dapat digunakan untuk memperlihatkan dasar-dasar untuk menggunakan fungsi ini. Sebuah *colorbar* ditambahkan ke dalam visualisasi untuk memberikan keterangan bahwa warna biru gelap merepresentasikan nilai 1 dan warna merah gelap nilai 4., sementara fungsi `imshow` menampilkan warna-warna yang merepresentasikan hasil interpolasi di antara 2 nilai ekstrim tersebut."
   ]
  },
  {
   "cell_type": "code",
   "execution_count": 38,
   "metadata": {
    "collapsed": false
   },
   "outputs": [
    {
     "name": "stdout",
     "output_type": "stream",
     "text": [
      "[[4 2 3 1]\n",
      " [2 4 3 1]\n",
      " [2 4 1 3]\n",
      " [4 1 2 3]]\n"
     ]
    },
    {
     "data": {
      "image/png": "iVBORw0KGgoAAAANSUhEUgAAATkAAAEACAYAAADIlAGUAAAABHNCSVQICAgIfAhkiAAAAAlwSFlz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\nbnEIqyy3NAAAAABJRU5ErkJggg==\n",
      "text/plain": [
       "<matplotlib.figure.Figure at 0x2ee3c838c50>"
      ]
     },
     "metadata": {},
     "output_type": "display_data"
    }
   ],
   "source": [
    "x = np.array([[4,2,3,1],\n",
    "           [2,4,3,1],\n",
    "           [2,4,1,3],\n",
    "           [4,1,2,3]])\n",
    "plt.imshow(x)\n",
    "plt.colorbar()\n",
    "print(x)"
   ]
  },
  {
   "cell_type": "markdown",
   "metadata": {},
   "source": [
    "Pertama-tama, perhatikan bahwa baris pertama pada array dalam contoh di atas diplot ke lokasi teratas pada gambar hasil visualisasi, seperti yang dapat dilihat dari barisan angka di sepanjang sumbu-$y$. Namun hal ini tidak sesuai dengan apa yang kita inginkan. Baris pertama array seharusnya terletak pada bagian bawah gambar hasil visualisasi sehingga nilai variabel $y$ bertambah dari bawah ke atas seperti pada sumbu-$y$ normal lainnya. Hal ini dapat dicapai dengan menggunakan kata kunci `origin=lower` dalam argumen yang diinput ke dalam fungsi. Kata kunci tersebut akan menghasilkan titik mula gambar yang berada pada pojok kiri bawah."
   ]
  },
  {
   "cell_type": "markdown",
   "metadata": {},
   "source": [
    "Array 2 dimensi dapat direpresentasikan dengan lebih baik ketika area atau sel di sekitar nilai dari variabel diberikan satu warna yang spesifik. Sebagai contoh, variabel x[1,2] direpresentasikan dengan sebuah sel dengan ketentuan sebagai berikut; 0.5 sampai 1.5 pada sumbu-$y$ (baris nomor 1) dan 1.5 sampai 2.5 pada sumbu-$x$ (kolom nomor 2), akan memiliki 1 warna yang spesifik. Hal ini dapat dicapai dengan menggunakan kata kunci berupa `interpolation='nearest'` pada argumen yang diinput ke dalam fungsi, yang berarti warna yang ditampilkan pada sel tersebut merepresentasikan nilai dari posisi variabel yang terdekat. Pada contoh kode di bawah ini penanda pada *colorbar* juga didefinisikan sehingga *colorbar* tersebut hanya menampilkan warna-warna yang merepresentasikan nilai 1 hingga 4."
   ]
  },
  {
   "cell_type": "code",
   "execution_count": 39,
   "metadata": {
    "collapsed": false
   },
   "outputs": [
    {
     "name": "stdout",
     "output_type": "stream",
     "text": [
      "[[4 2 3 1]\n",
      " [2 4 3 1]\n",
      " [2 4 1 3]\n",
      " [4 1 2 3]]\n"
     ]
    },
    {
     "data": {
      "text/plain": [
       "<matplotlib.colorbar.Colorbar at 0x2ee3c933048>"
      ]
     },
     "execution_count": 39,
     "metadata": {},
     "output_type": "execute_result"
    },
    {
     "data": {
      "image/png": "iVBORw0KGgoAAAANSUhEUgAAATAAAAEACAYAAAA0gSpeAAAABHNCSVQICAgIfAhkiAAAAAlwSFlz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\nCAAAAABJRU5ErkJggg==\n",
      "text/plain": [
       "<matplotlib.figure.Figure at 0x2ee3be71f98>"
      ]
     },
     "metadata": {},
     "output_type": "display_data"
    }
   ],
   "source": [
    "print(x)\n",
    "plt.imshow(x, origin='lower', interpolation='nearest')\n",
    "plt.colorbar(ticks=[1,2,3,4])"
   ]
  },
  {
   "cell_type": "markdown",
   "metadata": {},
   "source": [
    "Penting untuk diperhatikan bahwa baris pertama pada array, dengan nilai 4, 3, 2, 1, sekarang berada di bagian bawah dari gambar hasil visualisasi, seakan-akan array divisualisasikan secara terbalik. Palet warna yang digunakan pada visualisasi di atas menggunakan pengaturan standar yang dimiliki oleh python, disebut dengan `jet`, di mana nilai tertinggi akan secara otomatis direpresentasikan dengan warna merah dan nilai terendah dengan warna biru, nilai yang terletak di antara dua nilai ekstrim ini digambarkan dengan warna hijau-kuning. Apabila anda menginginkan palet warna yang berbeda untuk membuat visualisasi dari array yang anda miliki, anda dapat mendefinisikan palet warna yang lain ke dalam argumen yang tepat pada fungsi `matshow`. Untuk mencari tahu mengenai nama-nama standar untuk palet warna yang dikenali oleh python silakan cek [tautan ini](href=\"http://matplotlib.org/examples/color/colormaps_reference.html). Untuk melakukan modifikasi terhadap palet warna yang ingin digunakan, anda perlu mengimpor fungsi `cm` yang terdapat di dalam paket `matplotlib`. Fungsi ini menyimpan semua palet warna yang tersedia untuk diaplikasikan dalam lingkungan python. Setelah anda mengimpor fungsi `cm` seperti yang ditunjukkan pada contoh di bawah ini, anda dapat secara spesifik menentukan palet warna yang akan digunakan dalam visualisasi array yang anda miliki menggunakan kata kunci `cmap`."
   ]
  },
  {
   "cell_type": "code",
   "execution_count": 10,
   "metadata": {
    "collapsed": false
   },
   "outputs": [
    {
     "data": {
      "text/plain": [
       "<matplotlib.colorbar.Colorbar at 0x206f0796d68>"
      ]
     },
     "execution_count": 10,
     "metadata": {},
     "output_type": "execute_result"
    },
    {
     "data": {
      "image/png": "iVBORw0KGgoAAAANSUhEUgAAAR4AAAEACAYAAABlFRk9AAAABHNCSVQICAgIfAhkiAAAAAlwSFlz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\n",
      "text/plain": [
       "<matplotlib.figure.Figure at 0x206f070ca20>"
      ]
     },
     "metadata": {},
     "output_type": "display_data"
    }
   ],
   "source": [
    "import matplotlib.cm as cm\n",
    "plt.imshow(x, origin='lower', interpolation='nearest', cmap = cm.rainbow)\n",
    "plt.colorbar(ticks=[1,2,3,4])"
   ]
  },
  {
   "cell_type": "markdown",
   "metadata": {},
   "source": [
    "### Latihan 3, <a name=\"back3\"></a> Menciptakan dan memvisualisasikan sebuah array\n",
    "Buatlah sebuah array dengan ukuran 10 x 10. Elemen-elemen yang terletak di dalam kuadran bagian kiri atas dari array ini harus memiliki nilai 4, nilai 3 untuk elemen-elemen di dalam kuadran bagian kanan atas, nilai 2 pada elemen-elemen yang terletak di dalam kuadran kanan bawah, dan 1 untuk elemen-elemen yang terletak di dalam kuadran bagian kiri bawah.\n",
    "\n",
    "Pertama-tama buatlah array dengan menggunakan perintah `zeros` dan dilanjutkan dengan perintah untuk mengisi elemen-elemen dari array tersebut sesuai dengan spesifikasi yang telah dijelaskan di atas. Ingat bahwa angka pertama pada indeks array menunjukan keterangan mengenai baris dan angka ke dua menunjukkan kolom, dari kiri ke kanan. Selanjutnya, buatlah visualisasi dari array ini dengan menggunakan `imshow`. Apabila anda menggunakan pengaturan warna dasar, `jet`, maka visualisasi dari array ini akan menunjukkan segi empat yang terbagi ke dalam 4 kuadran dengan warna berbeda-beda; merah, kuning, biru muda, dan biru tua, searah jarum jam dimulai dari sisi kiri atas. Anda mungkin membutuhkan perintah `plt.axis('image')` untuk membuat agar batas-batas dari sumbu pada gambar sesuai dengan nilai-nilai ekstrim pada array <a name=\"back3\"></a>"
   ]
  },
  {
   "cell_type": "code",
   "execution_count": 11,
   "metadata": {
    "collapsed": false
   },
   "outputs": [
    {
     "name": "stdout",
     "output_type": "stream",
     "text": [
      "[[ 4.  4.  4.  4.  4.  3.  3.  3.  3.  3.]\n",
      " [ 4.  4.  4.  4.  4.  3.  3.  3.  3.  3.]\n",
      " [ 4.  4.  4.  4.  4.  3.  3.  3.  3.  3.]\n",
      " [ 4.  4.  4.  4.  4.  3.  3.  3.  3.  3.]\n",
      " [ 4.  4.  4.  4.  4.  3.  3.  3.  3.  3.]\n",
      " [ 1.  1.  1.  1.  1.  2.  2.  2.  2.  2.]\n",
      " [ 1.  1.  1.  1.  1.  2.  2.  2.  2.  2.]\n",
      " [ 1.  1.  1.  1.  1.  2.  2.  2.  2.  2.]\n",
      " [ 1.  1.  1.  1.  1.  2.  2.  2.  2.  2.]\n",
      " [ 1.  1.  1.  1.  1.  2.  2.  2.  2.  2.]]\n"
     ]
    },
    {
     "data": {
      "text/plain": [
       "<matplotlib.image.AxesImage at 0x206f06f31d0>"
      ]
     },
     "execution_count": 11,
     "metadata": {},
     "output_type": "execute_result"
    },
    {
     "data": {
      "image/png": "iVBORw0KGgoAAAANSUhEUgAAAPcAAAD7CAYAAAC2TgIoAAAABHNCSVQICAgIfAhkiAAAAAlwSFlz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\nNfU/2LILZm71ZakAAAAASUVORK5CYII=\n",
      "text/plain": [
       "<matplotlib.figure.Figure at 0x206f07ee2e8>"
      ]
     },
     "metadata": {},
     "output_type": "display_data"
    }
   ],
   "source": [
    "x=np.zeros((10,10))\n",
    "x[0:5,5:10]=3*np.ones(5)\n",
    "x[5:10,5:10]=2*np.ones(5)\n",
    "x[5:10,0:5]=1*np.ones(5)\n",
    "x[0:5,0:5]=4*np.ones(5)\n",
    "print(x)\n",
    "plt.imshow(x, interpolation='nearest',cmap = cm.jet)\n"
   ]
  },
  {
   "cell_type": "markdown",
   "metadata": {},
   "source": [
    "<a href=\"#ex3answer\">Kunci Jawaban untuk Latihan 3</a>"
   ]
  },
  {
   "cell_type": "markdown",
   "metadata": {},
   "source": [
    "### Latihan 4, <a name=\"back4\"></a> Menciptakan dan memvisualisasikan sebuah array dengan lebih kompleks\n",
    "Perhatikan gambar yang terdapat di bawah ini, yang secara kasar menampilkan huruf E dan T. Anda diminta untuk menampilkan array yang merepresentasikan gambar ini.\n",
    "\n",
    "Pertama-tama buatlah array yang terdiri dari angka 0 dengan dimensi 11 x 15. Atur agar elemen-elemen yang membentuk huruf E memiliki nilai +1 dan nilai -1 untuk elemen-elemen yang membentuk huruf T. Biarkan elemen-elemen yang membentuk latar belakang tetap memiliki nilai 0. <a name=\"back4\"></a>\n",
    "\n",
    "<img src= \"h\n",
    "\" width=\"500px\" />"
   ]
  },
  {
   "cell_type": "code",
   "execution_count": 12,
   "metadata": {
    "collapsed": false
   },
   "outputs": [
    {
     "name": "stdout",
     "output_type": "stream",
     "text": [
      "[[ 0.  0.  0.  0.  0.  0.  0.  0.  0.  0.  0.  0.  0.  0.  0.]\n",
      " [ 0.  1.  1.  1.  1.  1.  0. -1. -1. -1. -1. -1. -1. -1.  0.]\n",
      " [ 0.  1.  0.  0.  0.  0.  0.  0.  0.  0. -1.  0.  0.  0.  0.]\n",
      " [ 0.  1.  0.  0.  0.  0.  0.  0.  0.  0. -1.  0.  0.  0.  0.]\n",
      " [ 0.  1.  0.  0.  0.  0.  0.  0.  0.  0. -1.  0.  0.  0.  0.]\n",
      " [ 0.  1.  1.  1.  1.  1.  0.  0.  0.  0. -1.  0.  0.  0.  0.]\n",
      " [ 0.  1.  0.  0.  0.  0.  0.  0.  0.  0. -1.  0.  0.  0.  0.]\n",
      " [ 0.  1.  0.  0.  0.  0.  0.  0.  0.  0. -1.  0.  0.  0.  0.]\n",
      " [ 0.  1.  0.  0.  0.  0.  0.  0.  0.  0. -1.  0.  0.  0.  0.]\n",
      " [ 0.  1.  1.  1.  1.  1.  0.  0.  0.  0. -1.  0.  0.  0.  0.]\n",
      " [ 0.  0.  0.  0.  0.  0.  0.  0.  0.  0.  0.  0.  0.  0.  0.]]\n"
     ]
    },
    {
     "data": {
      "text/plain": [
       "<matplotlib.image.AxesImage at 0x206f00f1cf8>"
      ]
     },
     "execution_count": 12,
     "metadata": {},
     "output_type": "execute_result"
    },
    {
     "data": {
      "image/png": "iVBORw0KGgoAAAANSUhEUgAAAU8AAAD7CAYAAADq4RYlAAAABHNCSVQICAgIfAhkiAAAAAlwSFlz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\neUpSg+UpSQ2WpyQ1WJ6S1GB5SlLD/wEbTxKgV1vdpwAAAABJRU5ErkJggg==\n",
      "text/plain": [
       "<matplotlib.figure.Figure at 0x206f07184e0>"
      ]
     },
     "metadata": {},
     "output_type": "display_data"
    }
   ],
   "source": [
    "x=np.zeros((11,15))\n",
    "x[1:10,1]=1\n",
    "x[1,1:6]=1\n",
    "x[5,1:6]=1\n",
    "x[9,1:6]=1\n",
    "x[1,7:14]=-1\n",
    "x[1:10,10]=-1\n",
    "print(x)\n",
    "plt.imshow(x, interpolation='nearest',cmap = cm.jet)\n"
   ]
  },
  {
   "cell_type": "markdown",
   "metadata": {},
   "source": [
    "<a href=\"#ex4answer\">Kunci Jawaban untuk Latihan 4</a>"
   ]
  },
  {
   "cell_type": "markdown",
   "metadata": {},
   "source": [
    "### Dasar-dasar pernyataan `if`\n",
    "Sebuah pernyataan `if` dapat dieksekusi dalam kode yang telah kita buat apabila hasil dari pernyataan `if` tersebut adalah benar. Contoh penggunaan yang nyata dapat dilihat pada sel kode di bawah ini."
   ]
  },
  {
   "cell_type": "code",
   "execution_count": 77,
   "metadata": {
    "collapsed": false
   },
   "outputs": [
    {
     "name": "stdout",
     "output_type": "stream",
     "text": [
      "4\n",
      "mengubah avalue dalam contoh penggunaan pernyataan if yang pertama\n",
      "6\n",
      "6\n"
     ]
    }
   ],
   "source": [
    "avalue = 4\n",
    "print(avalue)\n",
    "if avalue < 6:\n",
    "    print('mengubah avalue dalam contoh penggunaan pernyataan if yang pertama')\n",
    "    avalue = avalue + 2\n",
    "print(avalue)\n",
    "if avalue > 20:\n",
    "    print('mengubah avalue dalam contoh penggunaan pernyatan if yang ke dua')\n",
    "    avalue = 200\n",
    "print(avalue)  # nilai dari avalue tidak berubah karena nilai avalue tidaklah lebih besar dari 20"
   ]
  },
  {
   "cell_type": "markdown",
   "metadata": {},
   "source": [
    "Perhatikan bahwa *syntax* yang memuat fungsi if dilanjutkan dengan pernyataan yang bersifat benar atau salah (`True` atau `False`) dan tanda titik dua. Setelah tanda titik dua, anda perlu menulis baris-baris kode selanjutnya lebih ke arah dalam (dengan menggunakan tombol *tab*). Seluruh baris kode ini hanya dapat tereksekusi apabila pernyataan yang menggunakan fungsi if terbukti benar, apabila pernyataan terbukti salah maka barisan kode yang terletak di dalam fungsi if ini tidak akan dieksekusi. Harap pastikan bahwa anda mengerti penggunaan dari pernyataan if ini secara benar."
   ]
  },
  {
   "cell_type": "code",
   "execution_count": 78,
   "metadata": {
    "collapsed": false
   },
   "outputs": [
    {
     "name": "stdout",
     "output_type": "stream",
     "text": [
      "False\n",
      "True\n",
      "True\n",
      "True\n",
      "False\n",
      "False\n"
     ]
    }
   ],
   "source": [
    "a = 4\n",
    "print(a < 4)\n",
    "print(a <= 4) # a lebih kecil atau sama dengan 4\n",
    "print(a == 4) # a sama dengan 4. Perhatikan penggunaan tanda sama dengan ganda pada pernyataan ini\n",
    "print(a >= 4) \n",
    "print(a >  4)\n",
    "print(a != 4) # a tidak sama dengan 4"
   ]
  },
  {
   "cell_type": "markdown",
   "metadata": {},
   "source": [
    "Sangatlah penting untuk memahami perbedaan antara penggunaan satu tanda sama dengan, seperti `a = 4`, dan dua tanda sama dengan secara berurutan, `a == 4`. Satu tanda sama dengan digunakan saat anda ingin memberikan nilai kepada sebuah elemen atau variabel. Nilai yang berada di sebelah kanan tanda sama dengan ini akan diberikan kepada variabel atau elemen apapun yang terletak di sebelah kiri. Tanda sama dengan ganda digunakan ketika anda akan membandingkan satu kondisi dengan kondisi lainnya dan hasil yang diharapkan adalah peryataan benar atau salah. Benar ketika nilai di sebelah kanan sesuai dengan apa yang terdapat pada elemen di sebelah kiri dan salah ketika nilai di sebelah kanan tidak sesuai dengan apa yang terdapat pada elemen di sebelah kiri. Variabel yang hanya dapat memiliki nilai benar atau salah, `True` atau `False`, disebut sebagai variabel *boolean*."
   ]
  },
  {
   "cell_type": "code",
   "execution_count": 79,
   "metadata": {
    "collapsed": false
   },
   "outputs": [
    {
     "name": "stdout",
     "output_type": "stream",
     "text": [
      "True\n",
      "False\n"
     ]
    }
   ],
   "source": [
    "print(4 == 4)\n",
    "print(4 == 5)"
   ]
  },
  {
   "cell_type": "markdown",
   "metadata": {},
   "source": [
    "Perbandingan juga dapat dilakukan antara beberapa array. Contohnya adalah sebagai berikut, buat sebuah array secara acak dan cari tahu mana dari elemen-elemen array tersebut yang memiliki nilai < 3!"
   ]
  },
  {
   "cell_type": "code",
   "execution_count": 80,
   "metadata": {
    "collapsed": false
   },
   "outputs": [
    {
     "name": "stdout",
     "output_type": "stream",
     "text": [
      "[0 1 2 3 4]\n",
      "[ True  True  True False False]\n"
     ]
    }
   ],
   "source": [
    "data = np.arange(5)\n",
    "print(data)\n",
    "print(data < 3)"
   ]
  },
  {
   "cell_type": "markdown",
   "metadata": {},
   "source": [
    "Pernyataan `a < 3` mengembalikan sebuah array dengan tipe `boolean` yang memiliki panjang yang setara dengan array `data` dan elemen-elemen yang bernilai antara benar, `True`, atau salah, `False`. Array dengan elemen-elemen `True` dan `False` ini dapat kita gunakan untuk mengembalikan elemen-elemen yang spesifik dari array `data` seperti yang ditunjukkan pada contoh di bawah ini:"
   ]
  },
  {
   "cell_type": "code",
   "execution_count": 81,
   "metadata": {
    "collapsed": false
   },
   "outputs": [
    {
     "name": "stdout",
     "output_type": "stream",
     "text": [
      "[0 1 2]\n"
     ]
    }
   ],
   "source": [
    "a = np.arange(5)\n",
    "b = np.array([ True, True, True, False, False ])\n",
    "print(a[b])"
   ]
  },
  {
   "cell_type": "markdown",
   "metadata": {},
   "source": [
    "Ketika elemen-elemen dari sebuah array diidentifikasikan oleh sebuah array dengan tipe *boolean*, maka hanya elemen-elemen yang memiliki nilai benar atau `True` pada array *boolean* ini yang teridentifikasi sebagai anggota dari array yang pertama. Hal ini merupakan kemampuan yang sangat berguna dari Python. Contohnya, ketika kita ingin mengeliminasi seluruh elemen pada sebuah array yang memiliki nilai > 3 seperti yang ditampilkan pada contoh di bawah ini."
   ]
  },
  {
   "cell_type": "code",
   "execution_count": 82,
   "metadata": {
    "collapsed": false
   },
   "outputs": [
    {
     "name": "stdout",
     "output_type": "stream",
     "text": [
      "Array total:  [0 1 2 3 4]\n",
      "Elemen-elemen array dengan nilai lebih kecil dari 3:  [0 1 2]\n"
     ]
    }
   ],
   "source": [
    "a = np.arange(5)\n",
    "print('Array total: ',a)\n",
    "print('Elemen-elemen array dengan nilai lebih kecil dari 3: ', a[a < 3])"
   ]
  },
  {
   "cell_type": "markdown",
   "metadata": {},
   "source": [
    "Apabila kita ingin menggantikan seluruh elemen pada sebuah array yang bernilai lebih kecil dari 3 dengan angka 10, maka kita dapat menggunakan *syntax* seperti yang ditunjukkan di bawah ini:"
   ]
  },
  {
   "cell_type": "code",
   "execution_count": 83,
   "metadata": {
    "collapsed": false
   },
   "outputs": [
    {
     "name": "stdout",
     "output_type": "stream",
     "text": [
      "[0 1 2 3 4]\n",
      "[10 10 10  3  4]\n"
     ]
    }
   ],
   "source": [
    "a = np.arange(5)\n",
    "print(a)\n",
    "a[ a < 3 ] = 10\n",
    "print(a)"
   ]
  },
  {
   "cell_type": "markdown",
   "metadata": {},
   "source": [
    "### Latihan 5, <a name=\"back5\"></a> Mengganti nilai-nilai tinggi dan rendah dalam sebuah array\n",
    "Buatlah sebuah array yang menyatakan nilai dari variabel $x$ yang terdiri dari 100 nilai, mulai dari 0 sampai dengan 20. Hitung $y=\\sin(x)$ dan plot $y$ vs. $x$ dengan kurva berwarna biru. Setelah itu, ubahlah seluruh nilai variabel $y$ yang lebih besar dari 0.5 dengan nilai 0.5 dan seluruh nilai yang lebih kecil dari $-$0.75 dengan nilai $-$0.75. Plot $x$ vs. $y$ dengan kurva berwarna merah pada grafik yang sama."
   ]
  },
  {
   "cell_type": "code",
   "execution_count": 103,
   "metadata": {
    "collapsed": false
   },
   "outputs": [
    {
     "data": {
      "text/plain": [
       "[<matplotlib.lines.Line2D at 0x2ee3f381be0>]"
      ]
     },
     "execution_count": 103,
     "metadata": {},
     "output_type": "execute_result"
    },
    {
     "data": {
      "image/png": "iVBORw0KGgoAAAANSUhEUgAAAX8AAAEACAYAAABbMHZzAAAABHNCSVQICAgIfAhkiAAAAAlwSFlz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\n",
      "text/plain": [
       "<matplotlib.figure.Figure at 0x2ee3f381dd8>"
      ]
     },
     "metadata": {},
     "output_type": "display_data"
    }
   ],
   "source": [
    "x = np.linspace(0, 20, 100)\n",
    "y=np.sin(x)\n",
    "plt.plot(x,y)\n",
    "y[y>=0.5]=0.5\n",
    "y[y<=-0.75]=-0.75\n",
    "plt.plot(x,y,'r')"
   ]
  },
  {
   "cell_type": "markdown",
   "metadata": {},
   "source": [
    "<a href=\"#ex5answer\">Kunci Jawaban untuk Latihan 5</a>"
   ]
  },
  {
   "cell_type": "markdown",
   "metadata": {},
   "source": [
    "### Latihan 6, <a name=\"back6\"></a> Mengubah warna penanda data berdasarkan nilai dari data tersebut\n",
    "Buatlah sebuah array yang menyatakan nilai dari variabel $x$ yang terdiri dari 100 nilai, mulai dari 0 hingga 20. Gunakan formula yang sama dengan Latihan 5 di atas untuk menghitung nilai variabel $y$. Plot setiap nilai variabel y yang memilki nilai lebih besar dari 0 dengan menggunakan penanda berupa titik berwarna biru dan titik berwarna merah untuk variabel-variabel y dengan nilai selain kondisi tersebut."
   ]
  },
  {
   "cell_type": "code",
   "execution_count": 114,
   "metadata": {
    "collapsed": false
   },
   "outputs": [
    {
     "data": {
      "text/plain": [
       "[<matplotlib.lines.Line2D at 0x2ee3f684240>]"
      ]
     },
     "execution_count": 114,
     "metadata": {},
     "output_type": "execute_result"
    },
    {
     "data": {
      "image/png": "iVBORw0KGgoAAAANSUhEUgAAAX8AAAEACAYAAABbMHZzAAAABHNCSVQICAgIfAhkiAAAAAlwSFlz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\niChADP5ERAFi8CciCtD/Az00g7+iCP+CAAAAAElFTkSuQmCC\n",
      "text/plain": [
       "<matplotlib.figure.Figure at 0x2ee3f6840b8>"
      ]
     },
     "metadata": {},
     "output_type": "display_data"
    }
   ],
   "source": [
    "x = np.linspace(0, 20, 100)\n",
    "y=np.sin(x)\n",
    "plt.plot(x[y>0],y[y>0],'bo')\n",
    "plt.plot(x[y<0],y[y<0],'ro')\n",
    "\n",
    "\n",
    "\n"
   ]
  },
  {
   "cell_type": "markdown",
   "metadata": {},
   "source": [
    "<a href=\"#ex6answer\">Kunci Jawaban untuk Latihan 6</a>"
   ]
  },
  {
   "cell_type": "markdown",
   "metadata": {},
   "source": [
    "### Memilih beberapa elemen di dalam array berdasarkan beberapa  kondisi yang spesifik\n",
    "Kondisi yang diberikan dalam perbandingan dapat lebih dari satu. Apabila terdapat 2 kondisi yang harus dipenuhi agar sebuah elemen dapat bernilai benar maka tanda `&` harus digunakan. Apabila setidaknya salah satu kondisi dari beberapa kondisi yang tersedia harus terpenuhi maka gunakan tanda `|` (garis vertikal). Sebagai contoh, dengan menggunakan array `x` dan `y` di bawah ini mari kita plot setiap variabel $y$ yang bernilai kurang dari $-$0.7 atau $-$0.5 dengan menggunakan penanda berwarna biru dan penanda berwarna merah untuk setiap variabel $y$ yang memenuhi kondisi $-0.5\\le y\\le 0.7$. Apabila terdapat beberapa kondisi yang harus dipenuhi oleh sebuah variabel maka kondisi-kondisi tersebut harus dinyatakan di dalam tanda kurung. Perhatikan bahwa nilai dari variabel $x$ melibatkan fungsi `pi` yang terdapat dalam paket/modul `numpy`."
   ]
  },
  {
   "cell_type": "code",
   "execution_count": "",
   "metadata": {
    "collapsed": false
   },
   "outputs": [],
   "source": [
    "x = np.linspace(0,6*np.pi,50)\n",
    "y = np.sin(x)\n",
    "plt.plot( x[ (y>0.7) | (y<-0.5)], y[ (y>0.7) | (y<-0.5)], 'bo' )\n",
    "plt.plot( x[ (y>-0.5) & (y<0.7)], y[ (y>-0.5) & (y<0.7)], 'ro' )"
   ]
  },
  {
   "cell_type": "markdown",
   "metadata": {},
   "source": [
    "### Latihan 7, <a name=\"back7\"></a> Beragam kondisi \n",
    "TDokumen `xypoints.dat` mengandung 1000 lokasi variabel $x,y$ yang ditentukan secara acak. Baik variabel $x$ maupun $y$ memiliki nilai bervariasi antara -10 dan 10. Silakan muat dokumen berisi data tersebut menggunakan perintah `loadtxt`. Simpan baris pertama dalam array tersebut ke dalam array baru yang bernama `x` dan baris ke dua ke dalam array yang baru bernama `y`.\n",
    "\n",
    "Pertama-tama, plot seluruh poin yang terdapat dalam dokumen dengan menggunakan tanda titik berwarna merah. Kemudian, pada grafik yang sama, plot seluruh poin di mana $x<-2$ dan $-5\\le y \\le 0$ menggunakan tanda titik biru. Terakhir, plot seluruh poin yang terletak di dalam lingkaran dengan radius $R=5$ dan titik tengah pada $(x_c,y_c)=(5,0)$. \n",
    "\n",
    "Petunjuk: Mungkin akan lebih mudah untuk terlebih dahulu membuat array baru yang berisi jarak radial dari seluruh titik yang terletak di dalam radius lingkaran yang telah didefinisikan di atas. Formula yang dapat digunakan untuk menghitung jarak radial tersebut adalah $r=\\sqrt{(x-x_c)^2+(y-y_c)^2}$. Gunakan perintah `plt.axis('image')` untuk memastikan bahwa kedua sumbu dari grafik memiliki skala yang sehingga lingkaran memiliki bentuk yang simetris, bukan elipsoidal."
   ]
  },
  {
   "cell_type": "code",
   "execution_count": 115,
   "metadata": {
    "collapsed": false
   },
   "outputs": [
    {
     "data": {
      "image/png": "iVBORw0KGgoAAAANSUhEUgAAAQ0AAAEACAYAAACpjCPWAAAABHNCSVQICAgIfAhkiAAAAAlwSFlz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\noLhWPDvhRAAAAABJRU5ErkJggg==\n",
      "text/plain": [
       "<matplotlib.figure.Figure at 0x2ee40662be0>"
      ]
     },
     "metadata": {},
     "output_type": "display_data"
    }
   ],
   "source": [
    "x,y = np.loadtxt('xypoints.dat')\n",
    "plt.plot(x,y,'ro')\n",
    "plt.plot(x[(x<-2)&(y>=-5)&(y<00)],y[(x<-2)&(y>=-5)&(y<-0)],'bo')\n",
    "r = np.sqrt((x-5)**2+y**2)\n",
    "plt.plot(x[r<5],y[r<5],'go')\n",
    "plt.axis('image');"
   ]
  },
  {
   "cell_type": "markdown",
   "metadata": {},
   "source": [
    "<a href=\"#ex7answer\">Kunci Jawaban untuk Latihan 7</a>"
   ]
  },
  {
   "cell_type": "markdown",
   "metadata": {},
   "source": [
    "### Kunci Jawaban "
   ]
  },
  {
   "cell_type": "markdown",
   "metadata": {},
   "source": [
    "<a name=\"ex1answer\">Kunci Jawaban untuk Latihan 1</a>"
   ]
  },
  {
   "cell_type": "code",
   "execution_count": "",
   "metadata": {
    "collapsed": false
   },
   "outputs": [],
   "source": [
    "x = np.zeros(20)\n",
    "x[:5] = 10\n",
    "x[5:15] = np.arange(12,31,2)\n",
    "x[15:] = 30\n",
    "plt.plot(x)\n",
    "plt.plot([4,4],[8,32],'k--')\n",
    "plt.plot([14,14],[8,32],'k--')\n",
    "plt.ylim(8,32)"
   ]
  },
  {
   "cell_type": "markdown",
   "metadata": {},
   "source": [
    "<a href=\"#back1\">Kembali ke Latihan 1</a>\n",
    "\n",
    "<a name=\"ex2answer\">Kunci Jawaban untuk Latihan 2</a>"
   ]
  },
  {
   "cell_type": "code",
   "execution_count": "",
   "metadata": {
    "collapsed": false
   },
   "outputs": [],
   "source": [
    "x = np.array([[4, 2, 3, 2],\n",
    "              [2, 4, 3, 1],\n",
    "              [2, 4, 1, 3],\n",
    "              [4, 1, 2, 3]])\n",
    "print('baris pertama dari x')\n",
    "print(x[0])\n",
    "print('kolom pertama dari x')\n",
    "print(x[:, 0])\n",
    "print('baris ke tiga dari x')\n",
    "print(x[2])\n",
    "print('dua kolom terakhir dari x')\n",
    "print(x[:, -2:])\n",
    "print('empat nilai yang terletak di pojok kanan atas')\n",
    "print(x[:2, 2:])\n",
    "print('empat nilai yang terletak di tengah-tengah x')\n",
    "print(x[1:3, 1:3])"
   ]
  },
  {
   "cell_type": "markdown",
   "metadata": {},
   "source": [
    "<a href=\"#back2\">Kembali ke Latihan 2</a>\n",
    "\n",
    "<a name=\"ex3answer\">Kunci Jawaban untuk Latihan 3</a>"
   ]
  },
  {
   "cell_type": "code",
   "execution_count": "",
   "metadata": {
    "collapsed": false
   },
   "outputs": [],
   "source": [
    "x = np.zeros((10,10))\n",
    "x[:5,:5]=4\n",
    "x[:5,5:]=3\n",
    "x[5:,5:]=2\n",
    "x[5:,:5]=1\n",
    "print(x)\n",
    "plt.imshow(x, interpolation='nearest')\n",
    "plt.colorbar(ticks=[1,2,3,4])\n",
    "plt.axis('image')"
   ]
  },
  {
   "cell_type": "markdown",
   "metadata": {},
   "source": [
    "<a href=\"#back3\">Kembali ke Latihan 3</a>\n",
    "\n",
    "<a name=\"ex4answer\">Kunci Jawaban untuk Latihan 4</a>"
   ]
  },
  {
   "cell_type": "code",
   "execution_count": 13,
   "metadata": {
    "collapsed": false
   },
   "outputs": [
    {
     "name": "stdout",
     "output_type": "stream",
     "text": [
      "[[ 0.  0.  0.  0.  0.  0.  0.  0.  0.  0.  0.  0.  0.  0.  0.]\n",
      " [ 0.  1.  1.  1.  1.  1.  0. -1. -1. -1. -1. -1. -1. -1.  0.]\n",
      " [ 0.  1.  0.  0.  0.  0.  0.  0.  0.  0. -1.  0.  0.  0.  0.]\n",
      " [ 0.  1.  0.  0.  0.  0.  0.  0.  0.  0. -1.  0.  0.  0.  0.]\n",
      " [ 0.  1.  0.  0.  0.  0.  0.  0.  0.  0. -1.  0.  0.  0.  0.]\n",
      " [ 0.  1.  1.  1.  1.  1.  0.  0.  0.  0. -1.  0.  0.  0.  0.]\n",
      " [ 0.  1.  0.  0.  0.  0.  0.  0.  0.  0. -1.  0.  0.  0.  0.]\n",
      " [ 0.  1.  0.  0.  0.  0.  0.  0.  0.  0. -1.  0.  0.  0.  0.]\n",
      " [ 0.  1.  0.  0.  0.  0.  0.  0.  0.  0. -1.  0.  0.  0.  0.]\n",
      " [ 0.  1.  1.  1.  1.  1.  0.  0.  0.  0. -1.  0.  0.  0.  0.]\n",
      " [ 0.  0.  0.  0.  0.  0.  0.  0.  0.  0.  0.  0.  0.  0.  0.]]\n"
     ]
    },
    {
     "data": {
      "text/plain": [
       "<matplotlib.image.AxesImage at 0x206f0814cf8>"
      ]
     },
     "execution_count": 13,
     "metadata": {},
     "output_type": "execute_result"
    },
    {
     "data": {
      "image/png": "iVBORw0KGgoAAAANSUhEUgAAAU8AAAD7CAYAAADq4RYlAAAABHNCSVQICAgIfAhkiAAAAAlwSFlz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\neUpSg+UpSQ2WpyQ1WJ6S1GB5SlLD/wEbTxKgV1vdpwAAAABJRU5ErkJggg==\n",
      "text/plain": [
       "<matplotlib.figure.Figure at 0x206f0703d68>"
      ]
     },
     "metadata": {},
     "output_type": "display_data"
    }
   ],
   "source": [
    "x=np.zeros((11,15))\n",
    "x[1:10,1]=1\n",
    "x[1,1:6]=1\n",
    "x[5,1:6]=1\n",
    "x[9,1:6]=1\n",
    "x[1,7:14]=-1\n",
    "x[1:10,10]=-1\n",
    "print(x)\n",
    "plt.imshow(x, interpolation='nearest',cmap = cm.jet)"
   ]
  },
  {
   "cell_type": "markdown",
   "metadata": {},
   "source": [
    "<a href=\"#back4\">Kembali ke Latihan 4</a>\n",
    "\n",
    "<a name=\"ex5answer\">Kunci Jawaban untuk Latihan 5</a>"
   ]
  },
  {
   "cell_type": "code",
   "execution_count": 5,
   "metadata": {
    "collapsed": false
   },
   "outputs": [
    {
     "data": {
      "text/plain": [
       "[<matplotlib.lines.Line2D at 0x206f0092470>]"
      ]
     },
     "execution_count": 5,
     "metadata": {},
     "output_type": "execute_result"
    },
    {
     "data": {
      "image/png": "iVBORw0KGgoAAAANSUhEUgAAAX8AAAEACAYAAABbMHZzAAAABHNCSVQICAgIfAhkiAAAAAlwSFlz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\n",
      "text/plain": [
       "<matplotlib.figure.Figure at 0x206f00924e0>"
      ]
     },
     "metadata": {},
     "output_type": "display_data"
    }
   ],
   "source": [
    "x = np.linspace(0,20,100)\n",
    "y = np.sin(x)\n",
    "plt.plot(x,y,'b')\n",
    "y[ y > 0.5 ] = 0.5\n",
    "y[ y < -0.75 ] = -0.75\n",
    "plt.plot(x,y,'r')"
   ]
  },
  {
   "cell_type": "markdown",
   "metadata": {},
   "source": [
    "<a href=\"#back5\">Kembali ke Latihan 5</a>\n",
    "\n",
    "<a name=\"ex6answer\">Kunci Jawaban untuk Latihan 6</a>"
   ]
  },
  {
   "cell_type": "code",
   "execution_count": 3,
   "metadata": {
    "collapsed": false
   },
   "outputs": [
    {
     "data": {
      "text/plain": [
       "[<matplotlib.lines.Line2D at 0x206efd07b00>]"
      ]
     },
     "execution_count": 3,
     "metadata": {},
     "output_type": "execute_result"
    },
    {
     "data": {
      "image/png": "iVBORw0KGgoAAAANSUhEUgAAAX8AAAEACAYAAABbMHZzAAAABHNCSVQICAgIfAhkiAAAAAlwSFlz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\nAaCAKP4AUED/D9/wnGcrKUedAAAAAElFTkSuQmCC\n",
      "text/plain": [
       "<matplotlib.figure.Figure at 0x206efd07b70>"
      ]
     },
     "metadata": {},
     "output_type": "display_data"
    }
   ],
   "source": [
    "x = np.linspace(0,6*np.pi,50)\n",
    "y = np.sin(x)\n",
    "plt.plot( x[y>0], y[y>0], 'bo' )\n",
    "plt.plot( x[y<=0], y[y<=0], 'ro' )"
   ]
  },
  {
   "cell_type": "markdown",
   "metadata": {},
   "source": [
    "<a href=\"#back6\">Kembali ke Latihan 6</a>\n",
    "\n",
    "<a name=\"ex6answer\">Kunci Jawaban untuk Latihan 7</a>"
   ]
  },
  {
   "cell_type": "code",
   "execution_count": 4,
   "metadata": {
    "collapsed": false
   },
   "outputs": [
    {
     "data": {
      "image/png": "iVBORw0KGgoAAAANSUhEUgAAAQ0AAAEACAYAAACpjCPWAAAABHNCSVQICAgIfAhkiAAAAAlwSFlz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\noLhWPDvhRAAAAABJRU5ErkJggg==\n",
      "text/plain": [
       "<matplotlib.figure.Figure at 0x206efd07630>"
      ]
     },
     "metadata": {},
     "output_type": "display_data"
    }
   ],
   "source": [
    "x,y = np.loadtxt('xypoints.dat')\n",
    "plt.plot(x,y,'ro')\n",
    "plt.plot(x[ (x<-2) & (y>=-5) & (y<00) ], y[ (x<-2) & (y>=-5) & (y<-0) ], 'bo')\n",
    "r = np.sqrt((x-5)**2+y**2)\n",
    "plt.plot(x[r<5],y[r<5],'go')\n",
    "plt.axis('image');"
   ]
  },
  {
   "cell_type": "markdown",
   "metadata": {},
   "source": [
    "<a href=\"#back7\">Kembali ke Latihan 7</a>"
   ]
  }
 ],
 "metadata": {
  "anaconda-cloud": {},
  "kernelspec": {
   "display_name": "Python [Root]",
   "language": "python",
   "name": "Python [Root]"
  },
  "language_info": {
   "codemirror_mode": {
    "name": "ipython",
    "version": 3
   },
   "file_extension": ".py",
   "mimetype": "text/x-python",
   "name": "python",
   "nbconvert_exporter": "python",
   "pygments_lexer": "ipython3",
   "version": "3.5.2"
  }
 },
 "nbformat": 4,
 "nbformat_minor": 0
}
